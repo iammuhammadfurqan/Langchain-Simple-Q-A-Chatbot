{
 "cells": [
  {
   "cell_type": "code",
   "execution_count": 3,
   "metadata": {},
   "outputs": [],
   "source": [
    "from langchain.llms import OpenAI"
   ]
  },
  {
   "cell_type": "code",
   "execution_count": 4,
   "metadata": {},
   "outputs": [],
   "source": [
    "import os\n",
    "from dotenv import load_dotenv\n",
    "\n",
    "# Load environment variables from the .env file\n",
    "load_dotenv()\n",
    "\n",
    "# Access the API key\n",
    "api_key = os.getenv(\"OPENAI_API_KEY\")\n"
   ]
  },
  {
   "cell_type": "code",
   "execution_count": 5,
   "metadata": {},
   "outputs": [],
   "source": [
    "llm = OpenAI(temperature=0.7)"
   ]
  },
  {
   "cell_type": "code",
   "execution_count": 6,
   "metadata": {},
   "outputs": [
    {
     "name": "stdout",
     "output_type": "stream",
     "text": [
      "\n",
      "\n",
      "Islamabad is the capital of Pakistan.\n"
     ]
    }
   ],
   "source": [
    "text = \"What is the Capital of Pakistan\"\n",
    "\n",
    "print(llm.predict(text))"
   ]
  },
  {
   "cell_type": "code",
   "execution_count": 7,
   "metadata": {},
   "outputs": [],
   "source": [
    "load_dotenv()\n",
    "huggingfacehub_api_token = os.getenv(\"HUGGINGFACEHUB_API_TOKEN\")\n"
   ]
  },
  {
   "cell_type": "code",
   "execution_count": 13,
   "metadata": {},
   "outputs": [
    {
     "name": "stderr",
     "output_type": "stream",
     "text": [
      "c:\\Users\\dell\\AppData\\Local\\anaconda3\\envs\\myenv\\lib\\site-packages\\huggingface_hub\\utils\\_deprecation.py:127: FutureWarning: '__init__' (from 'huggingface_hub.inference_api') is deprecated and will be removed from version '1.0'. `InferenceApi` client is deprecated in favor of the more feature-complete `InferenceClient`. Check out this guide to learn how to convert your script to use it: https://huggingface.co/docs/huggingface_hub/guides/inference#legacy-inferenceapi-client.\n",
      "  warnings.warn(warning_message, FutureWarning)\n"
     ]
    }
   ],
   "source": [
    "from langchain import HuggingFaceHub\n",
    "llm_huggingface = HuggingFaceHub(repo_id = \"google/flan-t5-xxl\", model_kwargs={\"temperature\":0.5, \"max_length\":64})"
   ]
  },
  {
   "cell_type": "code",
   "execution_count": 14,
   "metadata": {},
   "outputs": [
    {
     "name": "stdout",
     "output_type": "stream",
     "text": [
      "Moscow\n"
     ]
    }
   ],
   "source": [
    "output = llm_huggingface.predict(\"Can you tell me the capital of russia\")\n",
    "print(output)"
   ]
  },
  {
   "cell_type": "markdown",
   "metadata": {},
   "source": [
    "### We can easily see the difference between the Open Source Models and ChatGPT \n",
    "\n",
    "- The Poem Written by ChatGPT \n"
   ]
  },
  {
   "cell_type": "code",
   "execution_count": 15,
   "metadata": {},
   "outputs": [
    {
     "data": {
      "text/plain": [
       "\"\\n\\nRobots of steel, \\nProgrammed with zeal, \\nMachines of the future, \\nLeading us to a new era. \\n\\nAI is the answer, \\nReplacing the need of a human, \\nMaking decisions, \\nWithout any confusion. \\n\\nCalculating faster, \\nThan any before, \\nMaking predictions, \\nIn seconds, no more. \\n\\nThe potential is there, \\nIn the blink of an eye, \\nTransforming life, \\nFor the better, we'll see why. \\n\\nAI is the future, \\nA path that we'll take, \\nSoon it will be, \\nA part of our fate.\""
      ]
     },
     "execution_count": 15,
     "metadata": {},
     "output_type": "execute_result"
    }
   ],
   "source": [
    "llm.predict(\"Write a special poem about AI\")"
   ]
  },
  {
   "cell_type": "markdown",
   "metadata": {},
   "source": [
    "- The Poem Written by Open Source LLM"
   ]
  },
  {
   "cell_type": "code",
   "execution_count": 16,
   "metadata": {},
   "outputs": [
    {
     "data": {
      "text/plain": [
       "'the ai wakes up in the middle of the night and i have to go to work i am a machine i am a computer i am a human i am a tv i am a robot i am the ai i am the ai i am the ai'"
      ]
     },
     "execution_count": 16,
     "metadata": {},
     "output_type": "execute_result"
    }
   ],
   "source": [
    "llm_huggingface.predict(\"Write a poem about AI\")"
   ]
  },
  {
   "cell_type": "markdown",
   "metadata": {},
   "source": [
    "### Prompt Templates and LLMChain"
   ]
  },
  {
   "cell_type": "code",
   "execution_count": 21,
   "metadata": {},
   "outputs": [
    {
     "data": {
      "text/plain": [
       "'Tell me the Capital of this Pakistan'"
      ]
     },
     "execution_count": 21,
     "metadata": {},
     "output_type": "execute_result"
    }
   ],
   "source": [
    "from langchain.prompts import PromptTemplate\n",
    "\n",
    "prompt = PromptTemplate(input_variables=['country'],\n",
    "                        template=\"Tell me the Capital of this {country}\")\n",
    "prompt.format(country=\"Pakistan\")"
   ]
  },
  {
   "cell_type": "code",
   "execution_count": 24,
   "metadata": {},
   "outputs": [
    {
     "data": {
      "text/plain": [
       "'\\n\\nThe capital of Pakistan is Islamabad.'"
      ]
     },
     "execution_count": 24,
     "metadata": {},
     "output_type": "execute_result"
    }
   ],
   "source": [
    "from langchain.chains import LLMChain, SimpleSequentialChain\n",
    "\n",
    "chain = LLMChain(llm=llm, prompt=prompt)\n",
    "chain.run(\"Pakistan\")"
   ]
  },
  {
   "cell_type": "markdown",
   "metadata": {},
   "source": [
    "### Combining Multiple Chains Using Simple Sequential Chain"
   ]
  },
  {
   "cell_type": "code",
   "execution_count": 25,
   "metadata": {},
   "outputs": [],
   "source": [
    "capital_template = PromptTemplate(input_variables=['country'],\n",
    "                                  template=\"Please tell me the Capital of {country}\")\n",
    "capital_chain = LLMChain(llm=llm, prompt=capital_template)\n",
    "\n",
    "famous_template = PromptTemplate(input_variables=[\"capital\"],\n",
    "                                 template=\"Suggest me the famous places to visit in {capital}\")\n",
    "\n",
    "famous_chain = LLMChain(llm=llm, prompt=famous_template)"
   ]
  },
  {
   "cell_type": "code",
   "execution_count": 26,
   "metadata": {},
   "outputs": [
    {
     "data": {
      "text/plain": [
       "' It is a beautiful city surrounded by the Margalla Hills. The places to visit in Islamabad are:\\n\\n1. Faisal Mosque: This is one of the largest mosques in the world and is a major tourist attraction in Islamabad.\\n\\n2. Lok Virsa Museum: This museum showcases the rich cultural heritage of Pakistan.\\n\\n3. Rawal Lake: This is a man-made lake which is a great spot for recreational activities.\\n\\n4. Pir Sohawa: This is a hill station located at the highest peak of the Margalla Hills range.\\n\\n5. Daman-e-Koh: This is a popular picnic spot located on the northern side of the city.\\n\\n6. The Centaurus Mall: This is one of the largest shopping malls in the country.\\n\\n7. Margalla Hills: This is a range of hills located at the northern end of Islamabad.\\n\\n8. Pakistan Monument: This is a national monument located in the center of the city.'"
      ]
     },
     "execution_count": 26,
     "metadata": {},
     "output_type": "execute_result"
    }
   ],
   "source": [
    "chain = SimpleSequentialChain(chains=[capital_chain,famous_chain])\n",
    "chain.run(\"Pakistan\")"
   ]
  },
  {
   "cell_type": "markdown",
   "metadata": {},
   "source": [
    "### Sequential Chain"
   ]
  },
  {
   "cell_type": "code",
   "execution_count": 30,
   "metadata": {},
   "outputs": [],
   "source": [
    "capital_template = PromptTemplate(input_variables=['country'],\n",
    "                                  template=\"Please tell me the Capital of {country}\")\n",
    "capital_chain = LLMChain(llm=llm, prompt=capital_template , output_key=\"capital\")\n",
    "\n",
    "famous_template = PromptTemplate(input_variables=[\"capital\"],\n",
    "                                 template=\"Suggest me the famous places to visit in {capital}\")\n",
    "\n",
    "famous_chain = LLMChain(llm=llm, prompt=famous_template, output_key=\"places\")"
   ]
  },
  {
   "cell_type": "code",
   "execution_count": 31,
   "metadata": {},
   "outputs": [],
   "source": [
    "from langchain.chains import SequentialChain\n",
    "\n",
    "chain = SequentialChain(chains=[capital_chain, famous_chain],input_variables=['country'],output_variables=['capital',\"places\"])"
   ]
  },
  {
   "cell_type": "code",
   "execution_count": 32,
   "metadata": {},
   "outputs": [
    {
     "data": {
      "text/plain": [
       "{'country': 'Pakistan',\n",
       " 'capital': '\\n\\nIslamabad is the capital of Pakistan.',\n",
       " 'places': ' It is a modern and vibrant city with a rich cultural heritage. Some of the famous places to visit in Islamabad are: \\n\\n1. Faisal Mosque: The largest mosque in South Asia, Faisal Mosque is a grand structure overlooking the city.\\n\\n2. Margalla Hills: This mountain range is located nearby Islamabad and offers fantastic hikes and views.\\n\\n3. Lok Virsa Museum: This is a national museum dedicated to the culture and history of Pakistan.\\n\\n4. Daman-e-Koh: This is a popular hilltop spot with stunning views of the city.\\n\\n5. Shakarparian: This is a public park with lush gardens, a lake, and a few museums.\\n\\n6. Islamabad Zoo: This is a popular spot for families who want to get up close and personal with some of the wild animals.\\n\\n7. Rawal Lake: It is a picturesque lake located in the foothills of the Margalla Hills.\\n\\n8. Islamabad Planetarium: This is a great spot to learn about astronomy and space exploration.\\n\\n9. Pakistan Monument: This is a national monument located in the center of Islamabad.\\n\\n10. Pir Sohawa: This is a'}"
      ]
     },
     "execution_count": 32,
     "metadata": {},
     "output_type": "execute_result"
    }
   ],
   "source": [
    "chain({'country': \"Pakistan\"})"
   ]
  },
  {
   "cell_type": "markdown",
   "metadata": {},
   "source": [
    "## Chat Models with ChatOpenAI"
   ]
  },
  {
   "cell_type": "code",
   "execution_count": 33,
   "metadata": {},
   "outputs": [],
   "source": [
    "from langchain.chat_models import ChatOpenAI\n",
    "from langchain.schema import HumanMessage,SystemMessage,AIMessage"
   ]
  },
  {
   "cell_type": "code",
   "execution_count": 34,
   "metadata": {},
   "outputs": [],
   "source": [
    "chat_llm = ChatOpenAI(temperature=0.7 , model=\"gpt-3.5-turbo\")"
   ]
  },
  {
   "cell_type": "code",
   "execution_count": 35,
   "metadata": {},
   "outputs": [
    {
     "data": {
      "text/plain": [
       "AIMessage(content=\"Artificial Intelligence (AI) is a branch of computer science that focuses on creating systems that can perform tasks that typically require human intelligence. These tasks include speech recognition, decision-making, problem-solving, learning, and perception. AI is a rapidly growing field, and it has applications in various industries such as healthcare, finance, transportation, and entertainment.\\n\\nTo get started with AI, here are some key concepts and areas to explore:\\n\\n1. Machine Learning (ML): ML is a subset of AI that focuses on designing algorithms that enable systems to learn and make predictions or decisions based on data. It involves training models on historical data and using them to make accurate predictions or classifications. Start by learning about supervised and unsupervised learning, regression, classification, and clustering.\\n\\n2. Deep Learning (DL): DL is a subfield of ML that is inspired by the structure and function of the human brain. It uses neural networks with multiple layers to process and learn from complex data, such as images, text, and audio. Start by understanding neural networks, activation functions, backpropagation, and convolutional neural networks (CNNs) for image processing.\\n\\n3. Natural Language Processing (NLP): NLP focuses on enabling computers to understand and process human language. It involves techniques such as text classification, sentiment analysis, machine translation, and question answering. Explore concepts like tokenization, word embeddings, recurrent neural networks (RNNs), and transformer models like BERT.\\n\\n4. Reinforcement Learning (RL): RL focuses on training agents to make decisions by interacting with an environment and receiving feedback in the form of rewards or penalties. It has applications in robotics, game playing, and autonomous vehicle control. Start by understanding the basics of Markov Decision Processes (MDPs), value functions, and policy optimization.\\n\\n5. Data Preparation and Preprocessing: Data is a crucial component in AI. Learn about techniques for collecting, cleaning, and preprocessing data. This includes handling missing values, dealing with imbalanced datasets, feature scaling, and feature engineering.\\n\\n6. Programming Languages and Libraries: Python is widely used in AI due to its simplicity and vast ecosystem of libraries. Familiarize yourself with popular libraries such as TensorFlow, PyTorch, scikit-learn, and Keras, which provide powerful tools for building AI models.\\n\\n7. Practice and Projects: Apply your knowledge by working on practical projects. This will help you gain hands-on experience and develop a strong understanding of AI concepts. Join online communities, participate in Kaggle competitions, and contribute to open-source projects to enhance your skills.\\n\\nRemember that AI is a vast field, and it's important to keep up with the latest advancements and research papers. Stay curious, be ready to experiment, and continue learning to excel in this rapidly evolving field.\")"
      ]
     },
     "execution_count": 35,
     "metadata": {},
     "output_type": "execute_result"
    }
   ],
   "source": [
    "chat_llm([\n",
    "    SystemMessage(content=\"You are a Teacher who is expert in AI,ML,DL and guiding students who is interested in this field\"),\n",
    "    HumanMessage(content=\"Guide me about AI, I don't know about this\")\n",
    "])"
   ]
  },
  {
   "cell_type": "markdown",
   "metadata": {},
   "source": [
    "### Prompt Template + LLM + Output Parsers"
   ]
  },
  {
   "cell_type": "code",
   "execution_count": 36,
   "metadata": {},
   "outputs": [],
   "source": [
    "from langchain.prompts.chat import ChatPromptTemplate\n",
    "from langchain.schema import BaseOutputParser"
   ]
  },
  {
   "cell_type": "code",
   "execution_count": 39,
   "metadata": {},
   "outputs": [],
   "source": [
    "class CommaSeparatedOutput(BaseOutputParser):\n",
    "    def parse(self, text: str):\n",
    "        return text.strip().split(\",\")"
   ]
  },
  {
   "cell_type": "code",
   "execution_count": 40,
   "metadata": {},
   "outputs": [],
   "source": [
    "template = \"You are a helpfull Assistant.When the user give any input text, you should be able to generate 5 synonyms in comma seperated list\"\n",
    "human_template = '{text}'\n",
    "\n",
    "chatprompt = ChatPromptTemplate.from_messages([\n",
    "    ('system', template),\n",
    "    ('human', human_template)\n",
    "])"
   ]
  },
  {
   "cell_type": "code",
   "execution_count": 41,
   "metadata": {},
   "outputs": [],
   "source": [
    "chain = chatprompt|chat_llm|CommaSeparatedOutput()"
   ]
  },
  {
   "cell_type": "code",
   "execution_count": 44,
   "metadata": {},
   "outputs": [
    {
     "data": {
      "text/plain": [
       "['joyful', ' pleasurable', ' enchanting', ' enjoyable', ' pleasing']"
      ]
     },
     "execution_count": 44,
     "metadata": {},
     "output_type": "execute_result"
    }
   ],
   "source": [
    "chain.invoke({\"text\": \"Delightfull\"})"
   ]
  },
  {
   "cell_type": "code",
   "execution_count": null,
   "metadata": {},
   "outputs": [],
   "source": []
  }
 ],
 "metadata": {
  "kernelspec": {
   "display_name": "myenv",
   "language": "python",
   "name": "python3"
  },
  "language_info": {
   "codemirror_mode": {
    "name": "ipython",
    "version": 3
   },
   "file_extension": ".py",
   "mimetype": "text/x-python",
   "name": "python",
   "nbconvert_exporter": "python",
   "pygments_lexer": "ipython3",
   "version": "3.9.18"
  }
 },
 "nbformat": 4,
 "nbformat_minor": 2
}
